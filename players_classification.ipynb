{
  "nbformat": 4,
  "nbformat_minor": 0,
  "metadata": {
    "colab": {
      "provenance": []
    },
    "kernelspec": {
      "name": "python3",
      "display_name": "Python 3"
    },
    "language_info": {
      "name": "python"
    }
  },
  "cells": [
    {
      "cell_type": "code",
      "execution_count": 1,
      "metadata": {
        "id": "jiwyi8w61sTf"
      },
      "outputs": [],
      "source": [
        "import numpy as np\n",
        "import pandas as pd\n",
        "import seaborn as sns\n",
        "import missingno as msno\n",
        "import matplotlib.pyplot as plt"
      ]
    },
    {
      "cell_type": "markdown",
      "source": [
        "***Reading the dataset***"
      ],
      "metadata": {
        "id": "ORxv1oTrkdR6"
      }
    },
    {
      "cell_type": "code",
      "source": [
        "data = pd.read_excel('/content/drive/MyDrive/Digitain_task_Hovhannes_Arustamyan/Data_Science_Task_Dataset.xlsx')\n",
        "pd.set_option('display.max_rows', 5000)\n",
        "data.tail()"
      ],
      "metadata": {
        "id": "SzY_DJdV3BzP",
        "colab": {
          "base_uri": "https://localhost:8080/",
          "height": 206
        },
        "outputId": "45fc13dc-f046-4a0d-8442-40a39ca5d3dc"
      },
      "execution_count": 2,
      "outputs": [
        {
          "output_type": "execute_result",
          "data": {
            "text/plain": [
              "        UserID UserFirstName UserLastName  UserAge  UserGender    UserType  \\\n",
              "11993  2913319          Vahe    Atanesyan     23.0         0.0  FreeRoller   \n",
              "11994  2116202         Edgar     Sahakyan     38.0         0.0      Medium   \n",
              "11995  2116199         Arman    Gasparyan     27.0         0.0      Medium   \n",
              "11996  2665628         Armen    Araqelyan      NaN         0.0  High Value   \n",
              "11997  2116155        Razmik     Asatryan      NaN         0.0         VIP   \n",
              "\n",
              "       IsVerified  PlayedAmount  PlayedTimes  PlayedIndicator City  \n",
              "11993           0             0            0                0    C  \n",
              "11994           1          5000            1                1    C  \n",
              "11995           0          1000           19                1    C  \n",
              "11996           1          3500            4                1    C  \n",
              "11997           1        158031          124                1    C  "
            ],
            "text/html": [
              "\n",
              "  <div id=\"df-034ae9db-d069-4688-b875-361ae551a930\">\n",
              "    <div class=\"colab-df-container\">\n",
              "      <div>\n",
              "<style scoped>\n",
              "    .dataframe tbody tr th:only-of-type {\n",
              "        vertical-align: middle;\n",
              "    }\n",
              "\n",
              "    .dataframe tbody tr th {\n",
              "        vertical-align: top;\n",
              "    }\n",
              "\n",
              "    .dataframe thead th {\n",
              "        text-align: right;\n",
              "    }\n",
              "</style>\n",
              "<table border=\"1\" class=\"dataframe\">\n",
              "  <thead>\n",
              "    <tr style=\"text-align: right;\">\n",
              "      <th></th>\n",
              "      <th>UserID</th>\n",
              "      <th>UserFirstName</th>\n",
              "      <th>UserLastName</th>\n",
              "      <th>UserAge</th>\n",
              "      <th>UserGender</th>\n",
              "      <th>UserType</th>\n",
              "      <th>IsVerified</th>\n",
              "      <th>PlayedAmount</th>\n",
              "      <th>PlayedTimes</th>\n",
              "      <th>PlayedIndicator</th>\n",
              "      <th>City</th>\n",
              "    </tr>\n",
              "  </thead>\n",
              "  <tbody>\n",
              "    <tr>\n",
              "      <th>11993</th>\n",
              "      <td>2913319</td>\n",
              "      <td>Vahe</td>\n",
              "      <td>Atanesyan</td>\n",
              "      <td>23.0</td>\n",
              "      <td>0.0</td>\n",
              "      <td>FreeRoller</td>\n",
              "      <td>0</td>\n",
              "      <td>0</td>\n",
              "      <td>0</td>\n",
              "      <td>0</td>\n",
              "      <td>C</td>\n",
              "    </tr>\n",
              "    <tr>\n",
              "      <th>11994</th>\n",
              "      <td>2116202</td>\n",
              "      <td>Edgar</td>\n",
              "      <td>Sahakyan</td>\n",
              "      <td>38.0</td>\n",
              "      <td>0.0</td>\n",
              "      <td>Medium</td>\n",
              "      <td>1</td>\n",
              "      <td>5000</td>\n",
              "      <td>1</td>\n",
              "      <td>1</td>\n",
              "      <td>C</td>\n",
              "    </tr>\n",
              "    <tr>\n",
              "      <th>11995</th>\n",
              "      <td>2116199</td>\n",
              "      <td>Arman</td>\n",
              "      <td>Gasparyan</td>\n",
              "      <td>27.0</td>\n",
              "      <td>0.0</td>\n",
              "      <td>Medium</td>\n",
              "      <td>0</td>\n",
              "      <td>1000</td>\n",
              "      <td>19</td>\n",
              "      <td>1</td>\n",
              "      <td>C</td>\n",
              "    </tr>\n",
              "    <tr>\n",
              "      <th>11996</th>\n",
              "      <td>2665628</td>\n",
              "      <td>Armen</td>\n",
              "      <td>Araqelyan</td>\n",
              "      <td>NaN</td>\n",
              "      <td>0.0</td>\n",
              "      <td>High Value</td>\n",
              "      <td>1</td>\n",
              "      <td>3500</td>\n",
              "      <td>4</td>\n",
              "      <td>1</td>\n",
              "      <td>C</td>\n",
              "    </tr>\n",
              "    <tr>\n",
              "      <th>11997</th>\n",
              "      <td>2116155</td>\n",
              "      <td>Razmik</td>\n",
              "      <td>Asatryan</td>\n",
              "      <td>NaN</td>\n",
              "      <td>0.0</td>\n",
              "      <td>VIP</td>\n",
              "      <td>1</td>\n",
              "      <td>158031</td>\n",
              "      <td>124</td>\n",
              "      <td>1</td>\n",
              "      <td>C</td>\n",
              "    </tr>\n",
              "  </tbody>\n",
              "</table>\n",
              "</div>\n",
              "      <button class=\"colab-df-convert\" onclick=\"convertToInteractive('df-034ae9db-d069-4688-b875-361ae551a930')\"\n",
              "              title=\"Convert this dataframe to an interactive table.\"\n",
              "              style=\"display:none;\">\n",
              "        \n",
              "  <svg xmlns=\"http://www.w3.org/2000/svg\" height=\"24px\"viewBox=\"0 0 24 24\"\n",
              "       width=\"24px\">\n",
              "    <path d=\"M0 0h24v24H0V0z\" fill=\"none\"/>\n",
              "    <path d=\"M18.56 5.44l.94 2.06.94-2.06 2.06-.94-2.06-.94-.94-2.06-.94 2.06-2.06.94zm-11 1L8.5 8.5l.94-2.06 2.06-.94-2.06-.94L8.5 2.5l-.94 2.06-2.06.94zm10 10l.94 2.06.94-2.06 2.06-.94-2.06-.94-.94-2.06-.94 2.06-2.06.94z\"/><path d=\"M17.41 7.96l-1.37-1.37c-.4-.4-.92-.59-1.43-.59-.52 0-1.04.2-1.43.59L10.3 9.45l-7.72 7.72c-.78.78-.78 2.05 0 2.83L4 21.41c.39.39.9.59 1.41.59.51 0 1.02-.2 1.41-.59l7.78-7.78 2.81-2.81c.8-.78.8-2.07 0-2.86zM5.41 20L4 18.59l7.72-7.72 1.47 1.35L5.41 20z\"/>\n",
              "  </svg>\n",
              "      </button>\n",
              "      \n",
              "  <style>\n",
              "    .colab-df-container {\n",
              "      display:flex;\n",
              "      flex-wrap:wrap;\n",
              "      gap: 12px;\n",
              "    }\n",
              "\n",
              "    .colab-df-convert {\n",
              "      background-color: #E8F0FE;\n",
              "      border: none;\n",
              "      border-radius: 50%;\n",
              "      cursor: pointer;\n",
              "      display: none;\n",
              "      fill: #1967D2;\n",
              "      height: 32px;\n",
              "      padding: 0 0 0 0;\n",
              "      width: 32px;\n",
              "    }\n",
              "\n",
              "    .colab-df-convert:hover {\n",
              "      background-color: #E2EBFA;\n",
              "      box-shadow: 0px 1px 2px rgba(60, 64, 67, 0.3), 0px 1px 3px 1px rgba(60, 64, 67, 0.15);\n",
              "      fill: #174EA6;\n",
              "    }\n",
              "\n",
              "    [theme=dark] .colab-df-convert {\n",
              "      background-color: #3B4455;\n",
              "      fill: #D2E3FC;\n",
              "    }\n",
              "\n",
              "    [theme=dark] .colab-df-convert:hover {\n",
              "      background-color: #434B5C;\n",
              "      box-shadow: 0px 1px 3px 1px rgba(0, 0, 0, 0.15);\n",
              "      filter: drop-shadow(0px 1px 2px rgba(0, 0, 0, 0.3));\n",
              "      fill: #FFFFFF;\n",
              "    }\n",
              "  </style>\n",
              "\n",
              "      <script>\n",
              "        const buttonEl =\n",
              "          document.querySelector('#df-034ae9db-d069-4688-b875-361ae551a930 button.colab-df-convert');\n",
              "        buttonEl.style.display =\n",
              "          google.colab.kernel.accessAllowed ? 'block' : 'none';\n",
              "\n",
              "        async function convertToInteractive(key) {\n",
              "          const element = document.querySelector('#df-034ae9db-d069-4688-b875-361ae551a930');\n",
              "          const dataTable =\n",
              "            await google.colab.kernel.invokeFunction('convertToInteractive',\n",
              "                                                     [key], {});\n",
              "          if (!dataTable) return;\n",
              "\n",
              "          const docLinkHtml = 'Like what you see? Visit the ' +\n",
              "            '<a target=\"_blank\" href=https://colab.research.google.com/notebooks/data_table.ipynb>data table notebook</a>'\n",
              "            + ' to learn more about interactive tables.';\n",
              "          element.innerHTML = '';\n",
              "          dataTable['output_type'] = 'display_data';\n",
              "          await google.colab.output.renderOutput(dataTable, element);\n",
              "          const docLink = document.createElement('div');\n",
              "          docLink.innerHTML = docLinkHtml;\n",
              "          element.appendChild(docLink);\n",
              "        }\n",
              "      </script>\n",
              "    </div>\n",
              "  </div>\n",
              "  "
            ]
          },
          "metadata": {},
          "execution_count": 2
        }
      ]
    },
    {
      "cell_type": "code",
      "source": [
        "data.dtypes"
      ],
      "metadata": {
        "colab": {
          "base_uri": "https://localhost:8080/"
        },
        "id": "y0ZBpUgrwUDp",
        "outputId": "34e98b33-bd4e-4242-9e7e-426570f5c423"
      },
      "execution_count": 3,
      "outputs": [
        {
          "output_type": "execute_result",
          "data": {
            "text/plain": [
              "UserID               int64\n",
              "UserFirstName       object\n",
              "UserLastName        object\n",
              "UserAge            float64\n",
              "UserGender         float64\n",
              "UserType            object\n",
              "IsVerified           int64\n",
              "PlayedAmount         int64\n",
              "PlayedTimes          int64\n",
              "PlayedIndicator      int64\n",
              "City                object\n",
              "dtype: object"
            ]
          },
          "metadata": {},
          "execution_count": 3
        }
      ]
    },
    {
      "cell_type": "code",
      "source": [
        "data.describe()"
      ],
      "metadata": {
        "colab": {
          "base_uri": "https://localhost:8080/",
          "height": 300
        },
        "id": "eSgvwe6rp0au",
        "outputId": "434d6667-a794-429d-daab-9944829a54ae"
      },
      "execution_count": 4,
      "outputs": [
        {
          "output_type": "execute_result",
          "data": {
            "text/plain": [
              "             UserID       UserAge    UserGender    IsVerified  PlayedAmount  \\\n",
              "count  1.199800e+04  10198.000000  10535.000000  11998.000000  1.199800e+04   \n",
              "mean   8.434955e+06     34.876250      0.207499      0.749792  6.406433e+04   \n",
              "std    4.527937e+06     10.843398      0.405535      0.433151  5.100458e+05   \n",
              "min    2.116155e+06      1.000000      0.000000      0.000000  0.000000e+00   \n",
              "25%    4.611853e+06     27.000000      0.000000      0.000000  0.000000e+00   \n",
              "50%    8.455870e+06     32.000000      0.000000      1.000000  9.500000e+02   \n",
              "75%    1.186282e+07     40.000000      0.000000      1.000000  9.880000e+03   \n",
              "max    1.889138e+07    101.000000      1.000000      1.000000  2.240000e+07   \n",
              "\n",
              "        PlayedTimes  PlayedIndicator  \n",
              "count  11998.000000     11998.000000  \n",
              "mean      16.701617         0.666611  \n",
              "std       55.933882         0.471444  \n",
              "min        0.000000         0.000000  \n",
              "25%        0.000000         0.000000  \n",
              "50%        1.000000         1.000000  \n",
              "75%       10.000000         1.000000  \n",
              "max     1957.000000         1.000000  "
            ],
            "text/html": [
              "\n",
              "  <div id=\"df-2d95a287-3dea-473b-acc3-d7a070275d35\">\n",
              "    <div class=\"colab-df-container\">\n",
              "      <div>\n",
              "<style scoped>\n",
              "    .dataframe tbody tr th:only-of-type {\n",
              "        vertical-align: middle;\n",
              "    }\n",
              "\n",
              "    .dataframe tbody tr th {\n",
              "        vertical-align: top;\n",
              "    }\n",
              "\n",
              "    .dataframe thead th {\n",
              "        text-align: right;\n",
              "    }\n",
              "</style>\n",
              "<table border=\"1\" class=\"dataframe\">\n",
              "  <thead>\n",
              "    <tr style=\"text-align: right;\">\n",
              "      <th></th>\n",
              "      <th>UserID</th>\n",
              "      <th>UserAge</th>\n",
              "      <th>UserGender</th>\n",
              "      <th>IsVerified</th>\n",
              "      <th>PlayedAmount</th>\n",
              "      <th>PlayedTimes</th>\n",
              "      <th>PlayedIndicator</th>\n",
              "    </tr>\n",
              "  </thead>\n",
              "  <tbody>\n",
              "    <tr>\n",
              "      <th>count</th>\n",
              "      <td>1.199800e+04</td>\n",
              "      <td>10198.000000</td>\n",
              "      <td>10535.000000</td>\n",
              "      <td>11998.000000</td>\n",
              "      <td>1.199800e+04</td>\n",
              "      <td>11998.000000</td>\n",
              "      <td>11998.000000</td>\n",
              "    </tr>\n",
              "    <tr>\n",
              "      <th>mean</th>\n",
              "      <td>8.434955e+06</td>\n",
              "      <td>34.876250</td>\n",
              "      <td>0.207499</td>\n",
              "      <td>0.749792</td>\n",
              "      <td>6.406433e+04</td>\n",
              "      <td>16.701617</td>\n",
              "      <td>0.666611</td>\n",
              "    </tr>\n",
              "    <tr>\n",
              "      <th>std</th>\n",
              "      <td>4.527937e+06</td>\n",
              "      <td>10.843398</td>\n",
              "      <td>0.405535</td>\n",
              "      <td>0.433151</td>\n",
              "      <td>5.100458e+05</td>\n",
              "      <td>55.933882</td>\n",
              "      <td>0.471444</td>\n",
              "    </tr>\n",
              "    <tr>\n",
              "      <th>min</th>\n",
              "      <td>2.116155e+06</td>\n",
              "      <td>1.000000</td>\n",
              "      <td>0.000000</td>\n",
              "      <td>0.000000</td>\n",
              "      <td>0.000000e+00</td>\n",
              "      <td>0.000000</td>\n",
              "      <td>0.000000</td>\n",
              "    </tr>\n",
              "    <tr>\n",
              "      <th>25%</th>\n",
              "      <td>4.611853e+06</td>\n",
              "      <td>27.000000</td>\n",
              "      <td>0.000000</td>\n",
              "      <td>0.000000</td>\n",
              "      <td>0.000000e+00</td>\n",
              "      <td>0.000000</td>\n",
              "      <td>0.000000</td>\n",
              "    </tr>\n",
              "    <tr>\n",
              "      <th>50%</th>\n",
              "      <td>8.455870e+06</td>\n",
              "      <td>32.000000</td>\n",
              "      <td>0.000000</td>\n",
              "      <td>1.000000</td>\n",
              "      <td>9.500000e+02</td>\n",
              "      <td>1.000000</td>\n",
              "      <td>1.000000</td>\n",
              "    </tr>\n",
              "    <tr>\n",
              "      <th>75%</th>\n",
              "      <td>1.186282e+07</td>\n",
              "      <td>40.000000</td>\n",
              "      <td>0.000000</td>\n",
              "      <td>1.000000</td>\n",
              "      <td>9.880000e+03</td>\n",
              "      <td>10.000000</td>\n",
              "      <td>1.000000</td>\n",
              "    </tr>\n",
              "    <tr>\n",
              "      <th>max</th>\n",
              "      <td>1.889138e+07</td>\n",
              "      <td>101.000000</td>\n",
              "      <td>1.000000</td>\n",
              "      <td>1.000000</td>\n",
              "      <td>2.240000e+07</td>\n",
              "      <td>1957.000000</td>\n",
              "      <td>1.000000</td>\n",
              "    </tr>\n",
              "  </tbody>\n",
              "</table>\n",
              "</div>\n",
              "      <button class=\"colab-df-convert\" onclick=\"convertToInteractive('df-2d95a287-3dea-473b-acc3-d7a070275d35')\"\n",
              "              title=\"Convert this dataframe to an interactive table.\"\n",
              "              style=\"display:none;\">\n",
              "        \n",
              "  <svg xmlns=\"http://www.w3.org/2000/svg\" height=\"24px\"viewBox=\"0 0 24 24\"\n",
              "       width=\"24px\">\n",
              "    <path d=\"M0 0h24v24H0V0z\" fill=\"none\"/>\n",
              "    <path d=\"M18.56 5.44l.94 2.06.94-2.06 2.06-.94-2.06-.94-.94-2.06-.94 2.06-2.06.94zm-11 1L8.5 8.5l.94-2.06 2.06-.94-2.06-.94L8.5 2.5l-.94 2.06-2.06.94zm10 10l.94 2.06.94-2.06 2.06-.94-2.06-.94-.94-2.06-.94 2.06-2.06.94z\"/><path d=\"M17.41 7.96l-1.37-1.37c-.4-.4-.92-.59-1.43-.59-.52 0-1.04.2-1.43.59L10.3 9.45l-7.72 7.72c-.78.78-.78 2.05 0 2.83L4 21.41c.39.39.9.59 1.41.59.51 0 1.02-.2 1.41-.59l7.78-7.78 2.81-2.81c.8-.78.8-2.07 0-2.86zM5.41 20L4 18.59l7.72-7.72 1.47 1.35L5.41 20z\"/>\n",
              "  </svg>\n",
              "      </button>\n",
              "      \n",
              "  <style>\n",
              "    .colab-df-container {\n",
              "      display:flex;\n",
              "      flex-wrap:wrap;\n",
              "      gap: 12px;\n",
              "    }\n",
              "\n",
              "    .colab-df-convert {\n",
              "      background-color: #E8F0FE;\n",
              "      border: none;\n",
              "      border-radius: 50%;\n",
              "      cursor: pointer;\n",
              "      display: none;\n",
              "      fill: #1967D2;\n",
              "      height: 32px;\n",
              "      padding: 0 0 0 0;\n",
              "      width: 32px;\n",
              "    }\n",
              "\n",
              "    .colab-df-convert:hover {\n",
              "      background-color: #E2EBFA;\n",
              "      box-shadow: 0px 1px 2px rgba(60, 64, 67, 0.3), 0px 1px 3px 1px rgba(60, 64, 67, 0.15);\n",
              "      fill: #174EA6;\n",
              "    }\n",
              "\n",
              "    [theme=dark] .colab-df-convert {\n",
              "      background-color: #3B4455;\n",
              "      fill: #D2E3FC;\n",
              "    }\n",
              "\n",
              "    [theme=dark] .colab-df-convert:hover {\n",
              "      background-color: #434B5C;\n",
              "      box-shadow: 0px 1px 3px 1px rgba(0, 0, 0, 0.15);\n",
              "      filter: drop-shadow(0px 1px 2px rgba(0, 0, 0, 0.3));\n",
              "      fill: #FFFFFF;\n",
              "    }\n",
              "  </style>\n",
              "\n",
              "      <script>\n",
              "        const buttonEl =\n",
              "          document.querySelector('#df-2d95a287-3dea-473b-acc3-d7a070275d35 button.colab-df-convert');\n",
              "        buttonEl.style.display =\n",
              "          google.colab.kernel.accessAllowed ? 'block' : 'none';\n",
              "\n",
              "        async function convertToInteractive(key) {\n",
              "          const element = document.querySelector('#df-2d95a287-3dea-473b-acc3-d7a070275d35');\n",
              "          const dataTable =\n",
              "            await google.colab.kernel.invokeFunction('convertToInteractive',\n",
              "                                                     [key], {});\n",
              "          if (!dataTable) return;\n",
              "\n",
              "          const docLinkHtml = 'Like what you see? Visit the ' +\n",
              "            '<a target=\"_blank\" href=https://colab.research.google.com/notebooks/data_table.ipynb>data table notebook</a>'\n",
              "            + ' to learn more about interactive tables.';\n",
              "          element.innerHTML = '';\n",
              "          dataTable['output_type'] = 'display_data';\n",
              "          await google.colab.output.renderOutput(dataTable, element);\n",
              "          const docLink = document.createElement('div');\n",
              "          docLink.innerHTML = docLinkHtml;\n",
              "          element.appendChild(docLink);\n",
              "        }\n",
              "      </script>\n",
              "    </div>\n",
              "  </div>\n",
              "  "
            ]
          },
          "metadata": {},
          "execution_count": 4
        }
      ]
    },
    {
      "cell_type": "markdown",
      "source": [
        "***Exploration of Misssing values in each column***"
      ],
      "metadata": {
        "id": "eQo0rfqwkSrm"
      }
    },
    {
      "cell_type": "code",
      "source": [
        "data.isnull().sum()"
      ],
      "metadata": {
        "colab": {
          "base_uri": "https://localhost:8080/"
        },
        "id": "phkPA4bOejCn",
        "outputId": "a2632d1a-7e6c-49b0-d887-d792f95093b5"
      },
      "execution_count": 5,
      "outputs": [
        {
          "output_type": "execute_result",
          "data": {
            "text/plain": [
              "UserID                0\n",
              "UserFirstName         0\n",
              "UserLastName          0\n",
              "UserAge            1800\n",
              "UserGender         1463\n",
              "UserType            996\n",
              "IsVerified            0\n",
              "PlayedAmount          0\n",
              "PlayedTimes           0\n",
              "PlayedIndicator       0\n",
              "City               2198\n",
              "dtype: int64"
            ]
          },
          "metadata": {},
          "execution_count": 5
        }
      ]
    },
    {
      "cell_type": "markdown",
      "source": [
        "***Visualization of Missing values in each column ( horizontal whitespaces are the Missing values )***"
      ],
      "metadata": {
        "id": "h8rlDMOj_SoY"
      }
    },
    {
      "cell_type": "code",
      "source": [
        "msno.matrix(data, color=(0.8, 0.5, 0))\n",
        "plt.show()"
      ],
      "metadata": {
        "colab": {
          "base_uri": "https://localhost:8080/",
          "height": 516
        },
        "id": "HB3j7CUZ_LYQ",
        "outputId": "914acd91-b64d-4872-e072-d430bff9783e"
      },
      "execution_count": 6,
      "outputs": [
        {
          "output_type": "display_data",
          "data": {
            "text/plain": [
              "<Figure size 1800x720 with 2 Axes>"
            ],
            "image/png": "[encoded data removed]"
          },
          "metadata": {
            "needs_background": "light"
          }
        }
      ]
    },
    {
      "cell_type": "markdown",
      "source": [
        "***I will remove UserGender column, because it has more than 1000 missing values , and any imputing method can do many  mistakes , and I there is no point to manually fill by looking at person name and surname, so it would be dropped exactly.***"
      ],
      "metadata": {
        "id": "eTztYFXs9JTX"
      }
    },
    {
      "cell_type": "code",
      "source": [
        "data = data.drop(['UserGender'], axis=1)"
      ],
      "metadata": {
        "id": "bXwwxam4x5G4"
      },
      "execution_count": 7,
      "outputs": []
    },
    {
      "cell_type": "markdown",
      "source": [
        "***Filling Nan values in UserAge column***"
      ],
      "metadata": {
        "id": "FAq8PDmHvsle"
      }
    },
    {
      "cell_type": "code",
      "source": [
        "data['UserAge'] = data['UserAge'].fillna(data['UserAge'].mean())"
      ],
      "metadata": {
        "id": "squ5HwjzBBRa"
      },
      "execution_count": 8,
      "outputs": []
    },
    {
      "cell_type": "markdown",
      "source": [
        "***Filling Nan values in City column***"
      ],
      "metadata": {
        "id": "zb06rjvKxgV7"
      }
    },
    {
      "cell_type": "code",
      "source": [
        "sns.set_style('whitegrid')\n",
        "sns.countplot(x='City', hue='PlayedIndicator',data=data, palette='bright')\n",
        "plt.show()"
      ],
      "metadata": {
        "colab": {
          "base_uri": "https://localhost:8080/",
          "height": 279
        },
        "id": "mCE49OUqxf-M",
        "outputId": "fe4aaba2-2df5-469a-d0fe-89a4a1b6fee2"
      },
      "execution_count": 9,
      "outputs": [
        {
          "output_type": "display_data",
          "data": {
            "text/plain": [
              "<Figure size 432x288 with 1 Axes>"
            ],
            "image/png": "[encoded data removed]"
          },
          "metadata": {}
        }
      ]
    },
    {
      "cell_type": "markdown",
      "source": [
        "***Looking at a graph above , we see that in the C city , mostly people don't play games, so using  this statistics I will handle Nan values in the City column***"
      ],
      "metadata": {
        "id": "JAlPc2obyPHC"
      }
    },
    {
      "cell_type": "code",
      "source": [
        "list_ = []\n",
        "for index, row in data.iterrows():\n",
        "  if row['PlayedIndicator']==1 and row['City']!='B' and row['City']!='A' and row['City']!='C':\n",
        "    list_.append((row['UserFirstName'], row['UserLastName']))\n",
        "print(len(list_))    "
      ],
      "metadata": {
        "colab": {
          "base_uri": "https://localhost:8080/"
        },
        "id": "2x60MZkD4crY",
        "outputId": "66a6ff12-96c3-4456-8829-3d88b3635fbf"
      },
      "execution_count": 10,
      "outputs": [
        {
          "output_type": "stream",
          "name": "stdout",
          "text": [
            "2198\n"
          ]
        }
      ]
    },
    {
      "cell_type": "markdown",
      "source": [
        "***We understand that Userers whos City is Nan they all played.So I will choose most frequent one***"
      ],
      "metadata": {
        "id": "k8oLZTrNUAfE"
      }
    },
    {
      "cell_type": "code",
      "source": [
        "data['City'] = data['City'].fillna(\"A\")"
      ],
      "metadata": {
        "id": "-_Y9ON_6UoyF"
      },
      "execution_count": 11,
      "outputs": []
    },
    {
      "cell_type": "code",
      "source": [
        "data.describe()"
      ],
      "metadata": {
        "colab": {
          "base_uri": "https://localhost:8080/",
          "height": 300
        },
        "id": "kx_mQzk1mEcZ",
        "outputId": "bd28f3b1-943c-4572-8621-50214d7a452c"
      },
      "execution_count": 12,
      "outputs": [
        {
          "output_type": "execute_result",
          "data": {
            "text/plain": [
              "             UserID       UserAge    IsVerified  PlayedAmount   PlayedTimes  \\\n",
              "count  1.199800e+04  11998.000000  11998.000000  1.199800e+04  11998.000000   \n",
              "mean   8.434955e+06     34.876250      0.749792  6.406433e+04     16.701617   \n",
              "std    4.527937e+06      9.996898      0.433151  5.100458e+05     55.933882   \n",
              "min    2.116155e+06      1.000000      0.000000  0.000000e+00      0.000000   \n",
              "25%    4.611853e+06     28.000000      0.000000  0.000000e+00      0.000000   \n",
              "50%    8.455870e+06     34.000000      1.000000  9.500000e+02      1.000000   \n",
              "75%    1.186282e+07     38.000000      1.000000  9.880000e+03     10.000000   \n",
              "max    1.889138e+07    101.000000      1.000000  2.240000e+07   1957.000000   \n",
              "\n",
              "       PlayedIndicator  \n",
              "count     11998.000000  \n",
              "mean          0.666611  \n",
              "std           0.471444  \n",
              "min           0.000000  \n",
              "25%           0.000000  \n",
              "50%           1.000000  \n",
              "75%           1.000000  \n",
              "max           1.000000  "
            ],
            "text/html": [
              "\n",
              "  <div id=\"df-70613ac8-f526-4fab-ada4-efa1a06196f9\">\n",
              "    <div class=\"colab-df-container\">\n",
              "      <div>\n",
              "<style scoped>\n",
              "    .dataframe tbody tr th:only-of-type {\n",
              "        vertical-align: middle;\n",
              "    }\n",
              "\n",
              "    .dataframe tbody tr th {\n",
              "        vertical-align: top;\n",
              "    }\n",
              "\n",
              "    .dataframe thead th {\n",
              "        text-align: right;\n",
              "    }\n",
              "</style>\n",
              "<table border=\"1\" class=\"dataframe\">\n",
              "  <thead>\n",
              "    <tr style=\"text-align: right;\">\n",
              "      <th></th>\n",
              "      <th>UserID</th>\n",
              "      <th>UserAge</th>\n",
              "      <th>IsVerified</th>\n",
              "      <th>PlayedAmount</th>\n",
              "      <th>PlayedTimes</th>\n",
              "      <th>PlayedIndicator</th>\n",
              "    </tr>\n",
              "  </thead>\n",
              "  <tbody>\n",
              "    <tr>\n",
              "      <th>count</th>\n",
              "      <td>1.199800e+04</td>\n",
              "      <td>11998.000000</td>\n",
              "      <td>11998.000000</td>\n",
              "      <td>1.199800e+04</td>\n",
              "      <td>11998.000000</td>\n",
              "      <td>11998.000000</td>\n",
              "    </tr>\n",
              "    <tr>\n",
              "      <th>mean</th>\n",
              "      <td>8.434955e+06</td>\n",
              "      <td>34.876250</td>\n",
              "      <td>0.749792</td>\n",
              "      <td>6.406433e+04</td>\n",
              "      <td>16.701617</td>\n",
              "      <td>0.666611</td>\n",
              "    </tr>\n",
              "    <tr>\n",
              "      <th>std</th>\n",
              "      <td>4.527937e+06</td>\n",
              "      <td>9.996898</td>\n",
              "      <td>0.433151</td>\n",
              "      <td>5.100458e+05</td>\n",
              "      <td>55.933882</td>\n",
              "      <td>0.471444</td>\n",
              "    </tr>\n",
              "    <tr>\n",
              "      <th>min</th>\n",
              "      <td>2.116155e+06</td>\n",
              "      <td>1.000000</td>\n",
              "      <td>0.000000</td>\n",
              "      <td>0.000000e+00</td>\n",
              "      <td>0.000000</td>\n",
              "      <td>0.000000</td>\n",
              "    </tr>\n",
              "    <tr>\n",
              "      <th>25%</th>\n",
              "      <td>4.611853e+06</td>\n",
              "      <td>28.000000</td>\n",
              "      <td>0.000000</td>\n",
              "      <td>0.000000e+00</td>\n",
              "      <td>0.000000</td>\n",
              "      <td>0.000000</td>\n",
              "    </tr>\n",
              "    <tr>\n",
              "      <th>50%</th>\n",
              "      <td>8.455870e+06</td>\n",
              "      <td>34.000000</td>\n",
              "      <td>1.000000</td>\n",
              "      <td>9.500000e+02</td>\n",
              "      <td>1.000000</td>\n",
              "      <td>1.000000</td>\n",
              "    </tr>\n",
              "    <tr>\n",
              "      <th>75%</th>\n",
              "      <td>1.186282e+07</td>\n",
              "      <td>38.000000</td>\n",
              "      <td>1.000000</td>\n",
              "      <td>9.880000e+03</td>\n",
              "      <td>10.000000</td>\n",
              "      <td>1.000000</td>\n",
              "    </tr>\n",
              "    <tr>\n",
              "      <th>max</th>\n",
              "      <td>1.889138e+07</td>\n",
              "      <td>101.000000</td>\n",
              "      <td>1.000000</td>\n",
              "      <td>2.240000e+07</td>\n",
              "      <td>1957.000000</td>\n",
              "      <td>1.000000</td>\n",
              "    </tr>\n",
              "  </tbody>\n",
              "</table>\n",
              "</div>\n",
              "      <button class=\"colab-df-convert\" onclick=\"convertToInteractive('df-70613ac8-f526-4fab-ada4-efa1a06196f9')\"\n",
              "              title=\"Convert this dataframe to an interactive table.\"\n",
              "              style=\"display:none;\">\n",
              "        \n",
              "  <svg xmlns=\"http://www.w3.org/2000/svg\" height=\"24px\"viewBox=\"0 0 24 24\"\n",
              "       width=\"24px\">\n",
              "    <path d=\"M0 0h24v24H0V0z\" fill=\"none\"/>\n",
              "    <path d=\"M18.56 5.44l.94 2.06.94-2.06 2.06-.94-2.06-.94-.94-2.06-.94 2.06-2.06.94zm-11 1L8.5 8.5l.94-2.06 2.06-.94-2.06-.94L8.5 2.5l-.94 2.06-2.06.94zm10 10l.94 2.06.94-2.06 2.06-.94-2.06-.94-.94-2.06-.94 2.06-2.06.94z\"/><path d=\"M17.41 7.96l-1.37-1.37c-.4-.4-.92-.59-1.43-.59-.52 0-1.04.2-1.43.59L10.3 9.45l-7.72 7.72c-.78.78-.78 2.05 0 2.83L4 21.41c.39.39.9.59 1.41.59.51 0 1.02-.2 1.41-.59l7.78-7.78 2.81-2.81c.8-.78.8-2.07 0-2.86zM5.41 20L4 18.59l7.72-7.72 1.47 1.35L5.41 20z\"/>\n",
              "  </svg>\n",
              "      </button>\n",
              "      \n",
              "  <style>\n",
              "    .colab-df-container {\n",
              "      display:flex;\n",
              "      flex-wrap:wrap;\n",
              "      gap: 12px;\n",
              "    }\n",
              "\n",
              "    .colab-df-convert {\n",
              "      background-color: #E8F0FE;\n",
              "      border: none;\n",
              "      border-radius: 50%;\n",
              "      cursor: pointer;\n",
              "      display: none;\n",
              "      fill: #1967D2;\n",
              "      height: 32px;\n",
              "      padding: 0 0 0 0;\n",
              "      width: 32px;\n",
              "    }\n",
              "\n",
              "    .colab-df-convert:hover {\n",
              "      background-color: #E2EBFA;\n",
              "      box-shadow: 0px 1px 2px rgba(60, 64, 67, 0.3), 0px 1px 3px 1px rgba(60, 64, 67, 0.15);\n",
              "      fill: #174EA6;\n",
              "    }\n",
              "\n",
              "    [theme=dark] .colab-df-convert {\n",
              "      background-color: #3B4455;\n",
              "      fill: #D2E3FC;\n",
              "    }\n",
              "\n",
              "    [theme=dark] .colab-df-convert:hover {\n",
              "      background-color: #434B5C;\n",
              "      box-shadow: 0px 1px 3px 1px rgba(0, 0, 0, 0.15);\n",
              "      filter: drop-shadow(0px 1px 2px rgba(0, 0, 0, 0.3));\n",
              "      fill: #FFFFFF;\n",
              "    }\n",
              "  </style>\n",
              "\n",
              "      <script>\n",
              "        const buttonEl =\n",
              "          document.querySelector('#df-70613ac8-f526-4fab-ada4-efa1a06196f9 button.colab-df-convert');\n",
              "        buttonEl.style.display =\n",
              "          google.colab.kernel.accessAllowed ? 'block' : 'none';\n",
              "\n",
              "        async function convertToInteractive(key) {\n",
              "          const element = document.querySelector('#df-70613ac8-f526-4fab-ada4-efa1a06196f9');\n",
              "          const dataTable =\n",
              "            await google.colab.kernel.invokeFunction('convertToInteractive',\n",
              "                                                     [key], {});\n",
              "          if (!dataTable) return;\n",
              "\n",
              "          const docLinkHtml = 'Like what you see? Visit the ' +\n",
              "            '<a target=\"_blank\" href=https://colab.research.google.com/notebooks/data_table.ipynb>data table notebook</a>'\n",
              "            + ' to learn more about interactive tables.';\n",
              "          element.innerHTML = '';\n",
              "          dataTable['output_type'] = 'display_data';\n",
              "          await google.colab.output.renderOutput(dataTable, element);\n",
              "          const docLink = document.createElement('div');\n",
              "          docLink.innerHTML = docLinkHtml;\n",
              "          element.appendChild(docLink);\n",
              "        }\n",
              "      </script>\n",
              "    </div>\n",
              "  </div>\n",
              "  "
            ]
          },
          "metadata": {},
          "execution_count": 12
        }
      ]
    },
    {
      "cell_type": "markdown",
      "source": [
        "***I will not fill UserType column beacause I keep it as a ML model prediction column***"
      ],
      "metadata": {
        "id": "6ibcLMhjam1n"
      }
    },
    {
      "cell_type": "markdown",
      "source": [
        "***Ploting some statistics***"
      ],
      "metadata": {
        "id": "ykWuhcUkWwi0"
      }
    },
    {
      "cell_type": "code",
      "source": [
        "sns.set_style('whitegrid')\n",
        "sns.countplot(x='City', data=data, palette='bright')\n",
        "plt.show()"
      ],
      "metadata": {
        "colab": {
          "base_uri": "https://localhost:8080/",
          "height": 279
        },
        "id": "JXmF8nevKL4J",
        "outputId": "d9c7a126-ccb4-4e13-e11b-5d68831b1de3"
      },
      "execution_count": 13,
      "outputs": [
        {
          "output_type": "display_data",
          "data": {
            "text/plain": [
              "<Figure size 432x288 with 1 Axes>"
            ],
            "image/png": "[encoded data removed]"
          },
          "metadata": {}
        }
      ]
    },
    {
      "cell_type": "markdown",
      "source": [
        "***Visualization of PlayedIndicator column, which describes have user played and visualization of proportions by percentage***"
      ],
      "metadata": {
        "id": "_cPRKOn_n-ww"
      }
    },
    {
      "cell_type": "code",
      "source": [
        "sns.set_style('whitegrid')\n",
        "sns.countplot(x='PlayedIndicator', data=data, palette='bright')\n",
        "plt.show()"
      ],
      "metadata": {
        "colab": {
          "base_uri": "https://localhost:8080/",
          "height": 279
        },
        "id": "fsdibumelyo8",
        "outputId": "88955483-be10-423b-da03-7d542b578b2a"
      },
      "execution_count": 15,
      "outputs": [
        {
          "output_type": "display_data",
          "data": {
            "text/plain": [
              "<Figure size 432x288 with 1 Axes>"
            ],
            "image/png": "[encoded data removed]"
          },
          "metadata": {}
        }
      ]
    },
    {
      "cell_type": "code",
      "source": [
        "plt.pie([data['PlayedIndicator'].value_counts()[1], data['PlayedIndicator'].value_counts()[0]],\n",
        "       autopct='%.3f%%', labels = data['PlayedIndicator'].unique())\n",
        "plt.show()"
      ],
      "metadata": {
        "colab": {
          "base_uri": "https://localhost:8080/",
          "height": 248
        },
        "id": "aixVJeNjsfNt",
        "outputId": "f7e3509e-e8ed-478a-b254-f81f8268570a"
      },
      "execution_count": 16,
      "outputs": [
        {
          "output_type": "display_data",
          "data": {
            "text/plain": [
              "<Figure size 432x288 with 1 Axes>"
            ],
            "image/png": "[encoded data removed]"
          },
          "metadata": {}
        }
      ]
    },
    {
      "cell_type": "markdown",
      "source": [
        "***Visualization of users verification***"
      ],
      "metadata": {
        "id": "i9QWUPpW3xAH"
      }
    },
    {
      "cell_type": "code",
      "source": [
        "sns.set_style('darkgrid')\n",
        "sns.countplot(x='IsVerified', data=data, palette='RdBu_r')\n",
        "plt.show()"
      ],
      "metadata": {
        "colab": {
          "base_uri": "https://localhost:8080/",
          "height": 279
        },
        "id": "V_svs6jRyLnZ",
        "outputId": "66049067-fa01-4e7f-8de7-d5a67f0279d6"
      },
      "execution_count": 17,
      "outputs": [
        {
          "output_type": "display_data",
          "data": {
            "text/plain": [
              "<Figure size 432x288 with 1 Axes>"
            ],
            "image/png": "[encoded data removed]"
          },
          "metadata": {}
        }
      ]
    },
    {
      "cell_type": "markdown",
      "source": [
        "***Visualization of verified and unverified accounts count depends on the city***"
      ],
      "metadata": {
        "id": "5gN5p231BRTq"
      }
    },
    {
      "cell_type": "code",
      "source": [
        "sns.set_style('dark')\n",
        "sns.countplot(x='PlayedIndicator',hue='City', data=data, palette='deep')\n",
        "plt.show()"
      ],
      "metadata": {
        "colab": {
          "base_uri": "https://localhost:8080/",
          "height": 279
        },
        "id": "9ujj7qkF7ume",
        "outputId": "0c1b5573-050a-4ebe-f220-e1960738c215"
      },
      "execution_count": 18,
      "outputs": [
        {
          "output_type": "display_data",
          "data": {
            "text/plain": [
              "<Figure size 432x288 with 1 Axes>"
            ],
            "image/png": "[encoded data removed]"
          },
          "metadata": {}
        }
      ]
    },
    {
      "cell_type": "markdown",
      "source": [
        "## ***Visualization of our target , we can see that we have imbalanced data,, so we can't train a good model based on this data***"
      ],
      "metadata": {
        "id": "kq9S4lZKRY7F"
      }
    },
    {
      "cell_type": "code",
      "source": [
        "sns.set_style('whitegrid')\n",
        "sns.countplot(x='UserType', data=data, palette='bright')\n",
        "plt.show()"
      ],
      "metadata": {
        "colab": {
          "base_uri": "https://localhost:8080/",
          "height": 279
        },
        "id": "W0SesSfCRmlH",
        "outputId": "84d22a5e-43b5-473c-bca7-8e1723cdf63c"
      },
      "execution_count": 20,
      "outputs": [
        {
          "output_type": "display_data",
          "data": {
            "text/plain": [
              "<Figure size 432x288 with 1 Axes>"
            ],
            "image/png": "[encoded data removed]"
          },
          "metadata": {}
        }
      ]
    },
    {
      "cell_type": "markdown",
      "source": [
        "***Selecting columns for the ML model creation  ***"
      ],
      "metadata": {
        "id": "S2FRpHK2aXmC"
      }
    },
    {
      "cell_type": "code",
      "source": [
        "new_data = data[[\"UserAge\",\"PlayedAmount\",\"PlayedTimes\", \"UserType\"]]\n"
      ],
      "metadata": {
        "id": "apUScI1jbDG9"
      },
      "execution_count": 19,
      "outputs": []
    },
    {
      "cell_type": "markdown",
      "source": [
        "***I will separate data into 3 parts. First and Second part will include only that rows , where aren't any Nan values. My prediction would be on third dataset  which I will call as final data ***"
      ],
      "metadata": {
        "id": "ahwIKtBNcdGF"
      }
    },
    {
      "cell_type": "code",
      "source": [
        "train_data = new_data[new_data['UserType'].notnull()]\n",
        "final_data = new_data[new_data['UserType'].isnull()]"
      ],
      "metadata": {
        "id": "cnVlw-cWcced"
      },
      "execution_count": 22,
      "outputs": []
    },
    {
      "cell_type": "code",
      "source": [
        "train_data"
      ],
      "metadata": {
        "colab": {
          "base_uri": "https://localhost:8080/",
          "height": 424
        },
        "id": "HeWL96AhftSF",
        "outputId": "9c6eceb5-ba62-4708-e434-bc61b94ea9e4"
      },
      "execution_count": 23,
      "outputs": [
        {
          "output_type": "execute_result",
          "data": {
            "text/plain": [
              "        UserAge  PlayedAmount  PlayedTimes    UserType\n",
              "1      31.00000          6428            5  FreeRoller\n",
              "3      35.00000          2000            1      Medium\n",
              "4      48.00000             0            0  High Value\n",
              "5      29.00000         32500            5  High Value\n",
              "6      34.87625         84500           14      Medium\n",
              "...         ...           ...          ...         ...\n",
              "11993  23.00000             0            0  FreeRoller\n",
              "11994  38.00000          5000            1      Medium\n",
              "11995  27.00000          1000           19      Medium\n",
              "11996  34.87625          3500            4  High Value\n",
              "11997  34.87625        158031          124         VIP\n",
              "\n",
              "[11002 rows x 4 columns]"
            ],
            "text/html": [
              "\n",
              "  <div id=\"df-052da251-3031-4f66-8d73-7091dc5e9b80\">\n",
              "    <div class=\"colab-df-container\">\n",
              "      <div>\n",
              "<style scoped>\n",
              "    .dataframe tbody tr th:only-of-type {\n",
              "        vertical-align: middle;\n",
              "    }\n",
              "\n",
              "    .dataframe tbody tr th {\n",
              "        vertical-align: top;\n",
              "    }\n",
              "\n",
              "    .dataframe thead th {\n",
              "        text-align: right;\n",
              "    }\n",
              "</style>\n",
              "<table border=\"1\" class=\"dataframe\">\n",
              "  <thead>\n",
              "    <tr style=\"text-align: right;\">\n",
              "      <th></th>\n",
              "      <th>UserAge</th>\n",
              "      <th>PlayedAmount</th>\n",
              "      <th>PlayedTimes</th>\n",
              "      <th>UserType</th>\n",
              "    </tr>\n",
              "  </thead>\n",
              "  <tbody>\n",
              "    <tr>\n",
              "      <th>1</th>\n",
              "      <td>31.00000</td>\n",
              "      <td>6428</td>\n",
              "      <td>5</td>\n",
              "      <td>FreeRoller</td>\n",
              "    </tr>\n",
              "    <tr>\n",
              "      <th>3</th>\n",
              "      <td>35.00000</td>\n",
              "      <td>2000</td>\n",
              "      <td>1</td>\n",
              "      <td>Medium</td>\n",
              "    </tr>\n",
              "    <tr>\n",
              "      <th>4</th>\n",
              "      <td>48.00000</td>\n",
              "      <td>0</td>\n",
              "      <td>0</td>\n",
              "      <td>High Value</td>\n",
              "    </tr>\n",
              "    <tr>\n",
              "      <th>5</th>\n",
              "      <td>29.00000</td>\n",
              "      <td>32500</td>\n",
              "      <td>5</td>\n",
              "      <td>High Value</td>\n",
              "    </tr>\n",
              "    <tr>\n",
              "      <th>6</th>\n",
              "      <td>34.87625</td>\n",
              "      <td>84500</td>\n",
              "      <td>14</td>\n",
              "      <td>Medium</td>\n",
              "    </tr>\n",
              "    <tr>\n",
              "      <th>...</th>\n",
              "      <td>...</td>\n",
              "      <td>...</td>\n",
              "      <td>...</td>\n",
              "      <td>...</td>\n",
              "    </tr>\n",
              "    <tr>\n",
              "      <th>11993</th>\n",
              "      <td>23.00000</td>\n",
              "      <td>0</td>\n",
              "      <td>0</td>\n",
              "      <td>FreeRoller</td>\n",
              "    </tr>\n",
              "    <tr>\n",
              "      <th>11994</th>\n",
              "      <td>38.00000</td>\n",
              "      <td>5000</td>\n",
              "      <td>1</td>\n",
              "      <td>Medium</td>\n",
              "    </tr>\n",
              "    <tr>\n",
              "      <th>11995</th>\n",
              "      <td>27.00000</td>\n",
              "      <td>1000</td>\n",
              "      <td>19</td>\n",
              "      <td>Medium</td>\n",
              "    </tr>\n",
              "    <tr>\n",
              "      <th>11996</th>\n",
              "      <td>34.87625</td>\n",
              "      <td>3500</td>\n",
              "      <td>4</td>\n",
              "      <td>High Value</td>\n",
              "    </tr>\n",
              "    <tr>\n",
              "      <th>11997</th>\n",
              "      <td>34.87625</td>\n",
              "      <td>158031</td>\n",
              "      <td>124</td>\n",
              "      <td>VIP</td>\n",
              "    </tr>\n",
              "  </tbody>\n",
              "</table>\n",
              "<p>11002 rows × 4 columns</p>\n",
              "</div>\n",
              "      <button class=\"colab-df-convert\" onclick=\"convertToInteractive('df-052da251-3031-4f66-8d73-7091dc5e9b80')\"\n",
              "              title=\"Convert this dataframe to an interactive table.\"\n",
              "              style=\"display:none;\">\n",
              "        \n",
              "  <svg xmlns=\"http://www.w3.org/2000/svg\" height=\"24px\"viewBox=\"0 0 24 24\"\n",
              "       width=\"24px\">\n",
              "    <path d=\"M0 0h24v24H0V0z\" fill=\"none\"/>\n",
              "    <path d=\"M18.56 5.44l.94 2.06.94-2.06 2.06-.94-2.06-.94-.94-2.06-.94 2.06-2.06.94zm-11 1L8.5 8.5l.94-2.06 2.06-.94-2.06-.94L8.5 2.5l-.94 2.06-2.06.94zm10 10l.94 2.06.94-2.06 2.06-.94-2.06-.94-.94-2.06-.94 2.06-2.06.94z\"/><path d=\"M17.41 7.96l-1.37-1.37c-.4-.4-.92-.59-1.43-.59-.52 0-1.04.2-1.43.59L10.3 9.45l-7.72 7.72c-.78.78-.78 2.05 0 2.83L4 21.41c.39.39.9.59 1.41.59.51 0 1.02-.2 1.41-.59l7.78-7.78 2.81-2.81c.8-.78.8-2.07 0-2.86zM5.41 20L4 18.59l7.72-7.72 1.47 1.35L5.41 20z\"/>\n",
              "  </svg>\n",
              "      </button>\n",
              "      \n",
              "  <style>\n",
              "    .colab-df-container {\n",
              "      display:flex;\n",
              "      flex-wrap:wrap;\n",
              "      gap: 12px;\n",
              "    }\n",
              "\n",
              "    .colab-df-convert {\n",
              "      background-color: #E8F0FE;\n",
              "      border: none;\n",
              "      border-radius: 50%;\n",
              "      cursor: pointer;\n",
              "      display: none;\n",
              "      fill: #1967D2;\n",
              "      height: 32px;\n",
              "      padding: 0 0 0 0;\n",
              "      width: 32px;\n",
              "    }\n",
              "\n",
              "    .colab-df-convert:hover {\n",
              "      background-color: #E2EBFA;\n",
              "      box-shadow: 0px 1px 2px rgba(60, 64, 67, 0.3), 0px 1px 3px 1px rgba(60, 64, 67, 0.15);\n",
              "      fill: #174EA6;\n",
              "    }\n",
              "\n",
              "    [theme=dark] .colab-df-convert {\n",
              "      background-color: #3B4455;\n",
              "      fill: #D2E3FC;\n",
              "    }\n",
              "\n",
              "    [theme=dark] .colab-df-convert:hover {\n",
              "      background-color: #434B5C;\n",
              "      box-shadow: 0px 1px 3px 1px rgba(0, 0, 0, 0.15);\n",
              "      filter: drop-shadow(0px 1px 2px rgba(0, 0, 0, 0.3));\n",
              "      fill: #FFFFFF;\n",
              "    }\n",
              "  </style>\n",
              "\n",
              "      <script>\n",
              "        const buttonEl =\n",
              "          document.querySelector('#df-052da251-3031-4f66-8d73-7091dc5e9b80 button.colab-df-convert');\n",
              "        buttonEl.style.display =\n",
              "          google.colab.kernel.accessAllowed ? 'block' : 'none';\n",
              "\n",
              "        async function convertToInteractive(key) {\n",
              "          const element = document.querySelector('#df-052da251-3031-4f66-8d73-7091dc5e9b80');\n",
              "          const dataTable =\n",
              "            await google.colab.kernel.invokeFunction('convertToInteractive',\n",
              "                                                     [key], {});\n",
              "          if (!dataTable) return;\n",
              "\n",
              "          const docLinkHtml = 'Like what you see? Visit the ' +\n",
              "            '<a target=\"_blank\" href=https://colab.research.google.com/notebooks/data_table.ipynb>data table notebook</a>'\n",
              "            + ' to learn more about interactive tables.';\n",
              "          element.innerHTML = '';\n",
              "          dataTable['output_type'] = 'display_data';\n",
              "          await google.colab.output.renderOutput(dataTable, element);\n",
              "          const docLink = document.createElement('div');\n",
              "          docLink.innerHTML = docLinkHtml;\n",
              "          element.appendChild(docLink);\n",
              "        }\n",
              "      </script>\n",
              "    </div>\n",
              "  </div>\n",
              "  "
            ]
          },
          "metadata": {},
          "execution_count": 23
        }
      ]
    },
    {
      "cell_type": "markdown",
      "source": [
        "***Separating train data into X and Y***"
      ],
      "metadata": {
        "id": "oLy095dbB538"
      }
    },
    {
      "cell_type": "code",
      "source": [
        "X = train_data.iloc[:,:-1]\n",
        "y = train_data.iloc[:,-1]\n",
        "y"
      ],
      "metadata": {
        "colab": {
          "base_uri": "https://localhost:8080/"
        },
        "id": "mhdxnyalCrWv",
        "outputId": "235a3f67-a676-468f-c75c-ca8f76f6706f"
      },
      "execution_count": 24,
      "outputs": [
        {
          "output_type": "execute_result",
          "data": {
            "text/plain": [
              "1        FreeRoller\n",
              "3            Medium\n",
              "4        High Value\n",
              "5        High Value\n",
              "6            Medium\n",
              "            ...    \n",
              "11993    FreeRoller\n",
              "11994        Medium\n",
              "11995        Medium\n",
              "11996    High Value\n",
              "11997           VIP\n",
              "Name: UserType, Length: 11002, dtype: object"
            ]
          },
          "metadata": {},
          "execution_count": 24
        }
      ]
    },
    {
      "cell_type": "markdown",
      "source": [
        "***Change from words to ordinal labels***"
      ],
      "metadata": {
        "id": "ll_--B4CfMOO"
      }
    },
    {
      "cell_type": "code",
      "source": [
        "uniq_values = list(np.unique(y))\n",
        "uniq_values"
      ],
      "metadata": {
        "colab": {
          "base_uri": "https://localhost:8080/"
        },
        "id": "IxlFs-YTfZhk",
        "outputId": "05c62967-9a79-4b49-d9ce-0b3499b4ec32"
      },
      "execution_count": 25,
      "outputs": [
        {
          "output_type": "execute_result",
          "data": {
            "text/plain": [
              "['FreeRoller', 'High Value', 'Medium', 'VIP']"
            ]
          },
          "metadata": {},
          "execution_count": 25
        }
      ]
    },
    {
      "cell_type": "code",
      "source": [
        "list_ = [index for index,name in enumerate(uniq_values)]"
      ],
      "metadata": {
        "id": "x7uW1FlAgAeV"
      },
      "execution_count": 27,
      "outputs": []
    },
    {
      "cell_type": "code",
      "source": [
        "y.replace(uniq_values, list_, inplace=True)"
      ],
      "metadata": {
        "id": "12T9PdnggLWl"
      },
      "execution_count": 28,
      "outputs": []
    },
    {
      "cell_type": "markdown",
      "source": [
        "***Checking correlation between features***"
      ],
      "metadata": {
        "id": "euEwf2lKLDZU"
      }
    },
    {
      "cell_type": "code",
      "source": [
        "plt.figure(figsize=(8,8))\n",
        "cor = X.corr()\n",
        "sns.heatmap(cor, annot=True)\n",
        "plt.show()"
      ],
      "metadata": {
        "colab": {
          "base_uri": "https://localhost:8080/",
          "height": 487
        },
        "id": "gdfoQNUjK_lm",
        "outputId": "d5dd1f1c-8671-43ee-f5a1-6f608b3cab98"
      },
      "execution_count": 29,
      "outputs": [
        {
          "output_type": "display_data",
          "data": {
            "text/plain": [
              "<Figure size 576x576 with 2 Axes>"
            ],
            "image/png": "[encoded data removed]"
          },
          "metadata": {}
        }
      ]
    },
    {
      "cell_type": "markdown",
      "source": [
        "***Separating train data into 2 parts***"
      ],
      "metadata": {
        "id": "93DaNOJRDCXa"
      }
    },
    {
      "cell_type": "code",
      "source": [
        "from sklearn.model_selection import train_test_split"
      ],
      "metadata": {
        "id": "SFyou0g9B43Z"
      },
      "execution_count": 30,
      "outputs": []
    },
    {
      "cell_type": "code",
      "source": [
        "X_train, X_test, y_train, y_test = train_test_split(X,y, random_state=4, test_size=0.25)"
      ],
      "metadata": {
        "id": "Dn7jyqaQCURn"
      },
      "execution_count": 31,
      "outputs": []
    },
    {
      "cell_type": "markdown",
      "source": [
        "***Importing neccessary libraries doing Model creation and evaluation of scores***"
      ],
      "metadata": {
        "id": "rYLzK-uPMZsk"
      }
    },
    {
      "cell_type": "code",
      "source": [
        "from sklearn.svm import SVC\n",
        "from sklearn.naive_bayes import BernoulliNB\n",
        "from sklearn.tree import DecisionTreeClassifier\n",
        "from sklearn.neighbors import KNeighborsClassifier\n",
        "from sklearn.ensemble import RandomForestClassifier\n",
        "from sklearn.ensemble import AdaBoostClassifier\n",
        "from sklearn.ensemble import GradientBoostingClassifier\n",
        "from sklearn.metrics import accuracy_score\n",
        "from sklearn.preprocessing import StandardScaler\n",
        "import xgboost "
      ],
      "metadata": {
        "id": "cjuWk3p2MeXW"
      },
      "execution_count": 32,
      "outputs": []
    },
    {
      "cell_type": "markdown",
      "source": [
        "***Scaling X features by StandardScaler***"
      ],
      "metadata": {
        "id": "lb2NU3FiWJGP"
      }
    },
    {
      "cell_type": "code",
      "source": [
        "scaler = StandardScaler()\n",
        "X_train_scaled = scaler.fit_transform(X_train)\n",
        "X_test_scaled = scaler.transform(X_test)"
      ],
      "metadata": {
        "id": "saDjExtjRaIL"
      },
      "execution_count": 33,
      "outputs": []
    },
    {
      "cell_type": "markdown",
      "source": [
        "***Experimenting different algorithms***"
      ],
      "metadata": {
        "id": "lv02fu1cjkNK"
      }
    },
    {
      "cell_type": "code",
      "source": [
        "xgb_ = xgboost.XGBClassifier(learning_rate=0.1, max_depth=5, n_estimators=5000,subsample=0.5,\n",
        "                             colsample_bytree=0.5, eval_metric='auc', verbosity=1)\n",
        "xgb_.fit(X_train_scaled, y_train)\n",
        "y_pr = xgb_.predict(X_test_scaled)\n",
        "print(\"XGBoost acccuracy for validation set is\",accuracy_score(y_test, y_pr))"
      ],
      "metadata": {
        "colab": {
          "base_uri": "https://localhost:8080/"
        },
        "id": "B2Yc5urYkl7a",
        "outputId": "404df123-b7ab-49e7-85e1-c1b20493df4c"
      },
      "execution_count": 34,
      "outputs": [
        {
          "output_type": "stream",
          "name": "stdout",
          "text": [
            "0.41366775717920756\n"
          ]
        }
      ]
    },
    {
      "cell_type": "code",
      "source": [
        "knn = KNeighborsClassifier()\n",
        "knn.fit(X_train_scaled, y_train)\n",
        "y_ = knn.predict(X_test_scaled)\n",
        "print('KNN accuracy for validation is',accuracy_score(y_test, y_))"
      ],
      "metadata": {
        "colab": {
          "base_uri": "https://localhost:8080/"
        },
        "id": "PArgrsd1TkYk",
        "outputId": "cdf85893-d057-4058-ffc1-7aba6b57fc10"
      },
      "execution_count": 36,
      "outputs": [
        {
          "output_type": "stream",
          "name": "stdout",
          "text": [
            "KNN accuracy for validation is 0.4005816066884769\n"
          ]
        }
      ]
    },
    {
      "cell_type": "code",
      "source": [
        "gr_boost = GradientBoostingClassifier()\n",
        "gr_boost.fit(X_train_scaled, y_train)\n",
        "y_pred=gr_boost.predict(X_test_scaled)\n",
        "print('Gradient boosting accuracy for validation is',accuracy_score(y_test, y_pred))"
      ],
      "metadata": {
        "colab": {
          "base_uri": "https://localhost:8080/"
        },
        "id": "GSuJf6ayVpkO",
        "outputId": "c89a9865-0dcb-4eae-817f-f1635f25c987"
      },
      "execution_count": 37,
      "outputs": [
        {
          "output_type": "stream",
          "name": "stdout",
          "text": [
            "Gradient boosting accuracy for validation is 0.440567066521265\n"
          ]
        }
      ]
    },
    {
      "cell_type": "code",
      "source": [
        "ada = AdaBoostClassifier()\n",
        "ada.fit(X_train_scaled, y_train)\n",
        "y_pred = ada.predict(X_test_scaled)\n",
        "print(\"Adaboost accuracy score for validation is\",accuracy_score(y_test, y_pred))"
      ],
      "metadata": {
        "colab": {
          "base_uri": "https://localhost:8080/"
        },
        "id": "5sUBI2qORuNV",
        "outputId": "307e0b18-3ea7-4205-806c-991853a48cb9"
      },
      "execution_count": 38,
      "outputs": [
        {
          "output_type": "stream",
          "name": "stdout",
          "text": [
            "Adaboost accuracy score for validation is 0.44601962922573607\n"
          ]
        }
      ]
    },
    {
      "cell_type": "code",
      "source": [
        "rand_for = RandomForestClassifier()\n",
        "rand_for.fit(X_train, y_train)\n",
        "y_pred = rand_for.predict(X_test)\n",
        "print(\"Random forest accuracy for validation is\", accuracy_score(y_test, y_pred))"
      ],
      "metadata": {
        "colab": {
          "base_uri": "https://localhost:8080/"
        },
        "id": "uz-jvOOfM3Qo",
        "outputId": "6dbed28c-31f4-40a3-e231-4191196a6974"
      },
      "execution_count": 39,
      "outputs": [
        {
          "output_type": "stream",
          "name": "stdout",
          "text": [
            "Random forest accuracy for validation is 0.39185750636132316\n"
          ]
        }
      ]
    },
    {
      "cell_type": "code",
      "source": [
        "naive_bayes = BernoulliNB()\n",
        "naive_bayes.fit(X_train, y_train)\n",
        "y_pred_nb = naive_bayes.predict(X_test)\n",
        "print(\"Naive bayes accuracy for validation is\", accuracy_score(y_test, y_pred_nb))"
      ],
      "metadata": {
        "colab": {
          "base_uri": "https://localhost:8080/"
        },
        "id": "FcNLpcKYNrRZ",
        "outputId": "1b215333-5a91-40c5-9d96-990af7514d79"
      },
      "execution_count": 40,
      "outputs": [
        {
          "output_type": "stream",
          "name": "stdout",
          "text": [
            "Naive bayes accuracy for validation is 0.4412940748818611\n"
          ]
        }
      ]
    },
    {
      "cell_type": "code",
      "source": [
        "tree = DecisionTreeClassifier()\n",
        "tree.fit(X_train, y_train)\n",
        "y_pred = tree.predict(X_test)\n",
        "print(\"Decision tree accuracy for validation is\", accuracy_score(y_test, y_pred))"
      ],
      "metadata": {
        "colab": {
          "base_uri": "https://localhost:8080/"
        },
        "id": "mTLHO4NfOKad",
        "outputId": "2edba0eb-8d71-4dfd-84ce-f4962b2bf953"
      },
      "execution_count": 41,
      "outputs": [
        {
          "output_type": "stream",
          "name": "stdout",
          "text": [
            "Decision tree accuracy for validation is 0.3802253725917848\n"
          ]
        }
      ]
    },
    {
      "cell_type": "markdown",
      "source": [
        "# ***We wouldn't test further 3rd part of data because of underfitting , our data is imbalanced***"
      ],
      "metadata": {
        "id": "zvoHsciVTFO7"
      }
    }
  ]
}